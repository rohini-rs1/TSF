{
  "nbformat": 4,
  "nbformat_minor": 0,
  "metadata": {
    "colab": {
      "name": "Untitled0.ipynb",
      "provenance": [],
      "authorship_tag": "ABX9TyOKiaVYv5unMyaXgkJhG5pi",
      "include_colab_link": true
    },
    "kernelspec": {
      "name": "python3",
      "display_name": "Python 3"
    }
  },
  "cells": [
    {
      "cell_type": "markdown",
      "metadata": {
        "id": "view-in-github",
        "colab_type": "text"
      },
      "source": [
        "<a href=\"https://colab.research.google.com/github/rohini-rs1/TSF/blob/master/Untitled0.ipynb\" target=\"_parent\"><img src=\"https://colab.research.google.com/assets/colab-badge.svg\" alt=\"Open In Colab\"/></a>"
      ]
    },
    {
      "cell_type": "code",
      "metadata": {
        "id": "ZHgA2kEpg5G9",
        "colab_type": "code",
        "colab": {
          "base_uri": "https://localhost:8080/",
          "height": 80
        },
        "outputId": "1b9a3b58-175b-49ba-e6d1-071874cb3c96"
      },
      "source": [
        "import pandas as pd\n",
        "from keras.models import Sequential\n",
        "from keras import layers\n",
        "from sklearn.metrics import accuracy_score,confusion_matrix"
      ],
      "execution_count": null,
      "outputs": [
        {
          "output_type": "stream",
          "text": [
            "Using TensorFlow backend.\n"
          ],
          "name": "stderr"
        },
        {
          "output_type": "display_data",
          "data": {
            "text/html": [
              "<p style=\"color: red;\">\n",
              "The default version of TensorFlow in Colab will switch to TensorFlow 2.x on the 27th of March, 2020.<br>\n",
              "We recommend you <a href=\"https://www.tensorflow.org/guide/migrate\" target=\"_blank\">upgrade</a> now\n",
              "or ensure your notebook will continue to use TensorFlow 1.x via the <code>%tensorflow_version 1.x</code> magic:\n",
              "<a href=\"https://colab.research.google.com/notebooks/tensorflow_version.ipynb\" target=\"_blank\">more info</a>.</p>\n"
            ],
            "text/plain": [
              "<IPython.core.display.HTML object>"
            ]
          },
          "metadata": {
            "tags": []
          }
        }
      ]
    },
    {
      "cell_type": "code",
      "metadata": {
        "id": "NjsvKADJhGvi",
        "colab_type": "code",
        "colab": {}
      },
      "source": [
        "df=[\"1\",\"i like it\"]\n"
      ],
      "execution_count": null,
      "outputs": []
    },
    {
      "cell_type": "code",
      "metadata": {
        "id": "l1zVLPfNhGyI",
        "colab_type": "code",
        "colab": {
          "base_uri": "https://localhost:8080/",
          "height": 129
        },
        "outputId": "2ca15c8a-dce4-45dd-a31e-066de75c14ba"
      },
      "source": [
        "df=[1,\"I like it \"\n",
        "1,\"like it a lot \"\n",
        "1,\"It's really good \"\n",
        "1,\"Recommend! I really enjoyed! \"\n",
        "1,\"It's really good \"\n",
        "1,\"recommend too \"\n",
        "1,\"outstanding performance \"\n",
        "1,\"it's good! recommend! \"\n",
        "1,\"Great! \"\n",
        "1,\"really good. Definitely, recommend! \"\n",
        "1,\"It is fun \"\n",
        "1,\"Exceptional! liked a lot! \"\n",
        "1,\"highly recommend this \"\n",
        "1,\"fantastic show \"\n",
        "1,\"exciting, liked. \"\n",
        "1,\"it's ok \"\n",
        "1,\"exciting show \"\n",
        "1,\"amazing performance \"\n",
        "1,\"it is great! \"\n",
        "1,\"I am excited a lot \"\n",
        "1,\"it is terrific \"\n",
        "1,\"Definitely good one \"\n",
        "1,\"Excellent, very satisfied \"\n",
        "1,\"Glad we went \"\n",
        "1,\"Once again outstanding! \"\n",
        "1,\"awesome! excellent show \"\n",
        "1,\"This is truly a good one! \"\n",
        "1,\"What a nice restaurant.\"\n",
        "1,\"What a nice show.\"\n",
        "1,\"what a great place!\"\n",
        "1,\"Great atmosphere\"\n",
        "1,\"Definitely you should go\"\n",
        "1,\"This is a great!\"\n",
        "1,\"I really love it\"\n",
        "0,\"it's mediocre! not recommend \"\n",
        "0,\"Not good at all! \"\n",
        "0,\"It is rude \"\n",
        "0,\"I don't like this type \"\n",
        "0,\"poor performance \"\n",
        "0,\"Boring, not good at all! \"\n",
        "0,\"not liked \"\n",
        "0,\"I hate this type of things \"\n",
        "0,\"not recommend, not satisfied \"\n",
        "0,\"not enjoyed, I don't recommend this. \"\n",
        "0,\"disgusting movie \"\n",
        "0,\"waste of time, poor show \"\n",
        "0,\"feel tired after watching this \"\n",
        "0,\"horrible performance \"\n",
        "0,\"not so good \"\n",
        "0,\"so boring I fell asleep \"\n",
        "0,\"a bit strange \"\n",
        "0,\"terrible! I did not expect. \"\n",
        "0,\"This is an awful \"\n",
        "0,\"Nasty and horrible! \"\n",
        "0,\"Offensive, it is a crap! \"\n",
        "0,\"Disappointing! not liked. \"\n",
        "0,\"The service is a nightmare\"]"
      ],
      "execution_count": null,
      "outputs": [
        {
          "output_type": "error",
          "ename": "SyntaxError",
          "evalue": "ignored",
          "traceback": [
            "\u001b[0;36m  File \u001b[0;32m\"<ipython-input-4-94e95e62b69a>\"\u001b[0;36m, line \u001b[0;32m2\u001b[0m\n\u001b[0;31m    1,\"like it a lot \"\u001b[0m\n\u001b[0m    ^\u001b[0m\n\u001b[0;31mSyntaxError\u001b[0m\u001b[0;31m:\u001b[0m invalid syntax\n"
          ]
        }
      ]
    },
    {
      "cell_type": "code",
      "metadata": {
        "id": "tZF0L79nhG5g",
        "colab_type": "code",
        "colab": {}
      },
      "source": [
        ""
      ],
      "execution_count": null,
      "outputs": []
    },
    {
      "cell_type": "code",
      "metadata": {
        "id": "eO7BqZ0LhG3z",
        "colab_type": "code",
        "colab": {}
      },
      "source": [
        ""
      ],
      "execution_count": null,
      "outputs": []
    },
    {
      "cell_type": "code",
      "metadata": {
        "id": "xPu9XUbIhGsy",
        "colab_type": "code",
        "colab": {}
      },
      "source": [
        ""
      ],
      "execution_count": null,
      "outputs": []
    }
  ]
}